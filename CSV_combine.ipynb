{
  "nbformat": 4,
  "nbformat_minor": 0,
  "metadata": {
    "colab": {
      "provenance": []
    },
    "kernelspec": {
      "name": "python3",
      "display_name": "Python 3"
    },
    "language_info": {
      "name": "python"
    }
  },
  "cells": [
    {
      "cell_type": "code",
      "execution_count": 2,
      "metadata": {
        "id": "Wl9pto9e60Yn"
      },
      "outputs": [],
      "source": [
        "import pandas as pd"
      ]
    },
    {
      "cell_type": "code",
      "source": [
        "joker_list = ['/content/drive/MyDrive/tennischool/나달_조커비치/좌표값/선수 좌표값/조커비치/jokerbitch1.csv',\n",
        "              '/content/drive/MyDrive/tennischool/나달_조커비치/좌표값/선수 좌표값/조커비치/jokerbitch2.csv',\n",
        "              '/content/drive/MyDrive/tennischool/나달_조커비치/좌표값/선수 좌표값/조커비치/jokerbitch3.csv']"
      ],
      "metadata": {
        "id": "UqfzRybf7O8H"
      },
      "execution_count": 6,
      "outputs": []
    },
    {
      "cell_type": "code",
      "source": [
        "joker_combined = {}"
      ],
      "metadata": {
        "id": "fI39Z8wP7sFf"
      },
      "execution_count": 7,
      "outputs": []
    },
    {
      "cell_type": "code",
      "source": [
        "for joker in joker_list:\n",
        "    joker_combined[joker] = pd.read_csv(f'{joker}')"
      ],
      "metadata": {
        "id": "sHn02hzA7vjm"
      },
      "execution_count": 9,
      "outputs": []
    },
    {
      "cell_type": "code",
      "source": [
        "all_data = pd.concat(joker_combined.values(), ignore_index=True)"
      ],
      "metadata": {
        "id": "6_Oc_cDV8TZf"
      },
      "execution_count": 10,
      "outputs": []
    },
    {
      "cell_type": "code",
      "source": [
        "all_data.to_csv('joker_combined.csv', index = False)"
      ],
      "metadata": {
        "id": "NQWMymxU9al9"
      },
      "execution_count": 11,
      "outputs": []
    },
    {
      "cell_type": "code",
      "source": [
        "fedder_list = ['/content/drive/MyDrive/tennischool/나달_조커비치/좌표값/선수 좌표값/페더러/feddder1.csv',\n",
        "              '/content/drive/MyDrive/tennischool/나달_조커비치/좌표값/선수 좌표값/페더러/feddder2.csv',\n",
        "              '/content/drive/MyDrive/tennischool/나달_조커비치/좌표값/선수 좌표값/페더러/feddder3.csv']\n",
        "\n",
        "\n",
        "fedder_combined = {}\n",
        "\n",
        "\n",
        "\n",
        "for fedder in fedder_list:\n",
        "    fedder_combined[fedder] = pd.read_csv(f'{fedder}')\n",
        "\n",
        "\n",
        "all_fedder_data = pd.concat(fedder_combined.values(), ignore_index=True)\n",
        "\n",
        "\n",
        "all_fedder_data.to_csv('fedder_combined.csv', index = False)"
      ],
      "metadata": {
        "id": "-qsfJw_H-DHt"
      },
      "execution_count": 12,
      "outputs": []
    },
    {
      "cell_type": "code",
      "source": [
        "feet_list = ['/content/drive/MyDrive/tennischool/나달_조커비치/좌표값/선수 좌표값/피트/feet1.csv',\n",
        "              '/content/drive/MyDrive/tennischool/나달_조커비치/좌표값/선수 좌표값/피트/feet2.csv']\n",
        "\n",
        "\n",
        "feet_combined = {}\n",
        "\n",
        "\n",
        "\n",
        "for feet in feet_list:\n",
        "    feet_combined[feet] = pd.read_csv(f'{feet}')\n",
        "\n",
        "\n",
        "all_feet_data = pd.concat(feet_combined.values(), ignore_index=True)\n",
        "\n",
        "\n",
        "all_feet_data.to_csv('feet_combined.csv', index = False)"
      ],
      "metadata": {
        "id": "uT9Up4x1_sUj"
      },
      "execution_count": 13,
      "outputs": []
    },
    {
      "cell_type": "code",
      "source": [],
      "metadata": {
        "id": "jL-f9fuBAZlU"
      },
      "execution_count": null,
      "outputs": []
    }
  ]
}